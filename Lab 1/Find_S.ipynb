{
  "nbformat": 4,
  "nbformat_minor": 0,
  "metadata": {
    "colab": {
      "name": "Find-S.ipynb",
      "provenance": [],
      "collapsed_sections": []
    },
    "kernelspec": {
      "name": "python3",
      "display_name": "Python 3"
    },
    "language_info": {
      "name": "python"
    }
  },
  "cells": [
    {
      "cell_type": "code",
      "source": [
        "import numpy as np\n",
        "import pandas as pd\n",
        "import os"
      ],
      "metadata": {
        "id": "G-YHpfvCq6xg"
      },
      "execution_count": null,
      "outputs": []
    },
    {
      "cell_type": "markdown",
      "source": [
        "content/sample_data\n"
      ],
      "metadata": {
        "id": "bqR0EcDNtYB5"
      }
    },
    {
      "cell_type": "code",
      "source": [
        "os.listdir(\"/content/sample_data\")"
      ],
      "metadata": {
        "colab": {
          "base_uri": "https://localhost:8080/"
        },
        "id": "U-H8InuXvNa6",
        "outputId": "8c911e77-31ae-4af6-cb62-fbdaddeb638c"
      },
      "execution_count": 11,
      "outputs": [
        {
          "output_type": "execute_result",
          "data": {
            "text/plain": [
              "['anscombe.json',\n",
              " 'README.md',\n",
              " 'ws.csv',\n",
              " 'mnist_train_small.csv',\n",
              " 'mnist_test.csv',\n",
              " 'california_housing_train.csv',\n",
              " 'california_housing_test.csv']"
            ]
          },
          "metadata": {},
          "execution_count": 11
        }
      ]
    },
    {
      "cell_type": "code",
      "source": [
        "data=pd.read_csv(\"/content/sample_data/ws.csv\")\n",
        "print(data, \"\\n\")"
      ],
      "metadata": {
        "colab": {
          "base_uri": "https://localhost:8080/"
        },
        "id": "sVhOkTurvgka",
        "outputId": "d91a8db4-8dbe-404a-80f3-eafd2222219b"
      },
      "execution_count": 15,
      "outputs": [
        {
          "output_type": "stream",
          "name": "stdout",
          "text": [
            "     sky air temp humidity    wind water forecast enjoy sport\n",
            "0  Sunny     Warm   Normal  Strong  Warm     Same         Yes\n",
            "1  Sunny     Warm     High  Strong  Warm     Same         Yes\n",
            "2  Rainy     Cold     High  Strong  Warm   Change          No\n",
            "3  Sunny     Warm     High  Strong  Cool   Change         Yes \n",
            "\n"
          ]
        }
      ]
    },
    {
      "cell_type": "code",
      "source": [
        "d=np.array(data)[:,:-1]\n",
        "print(d)"
      ],
      "metadata": {
        "colab": {
          "base_uri": "https://localhost:8080/"
        },
        "id": "k-RtgVLrvx8q",
        "outputId": "a0892bf0-763c-42a7-c31f-3a189a9986e7"
      },
      "execution_count": 16,
      "outputs": [
        {
          "output_type": "stream",
          "name": "stdout",
          "text": [
            "[['Sunny' 'Warm' 'Normal' 'Strong' 'Warm' 'Same']\n",
            " ['Sunny' 'Warm' 'High' 'Strong' 'Warm' 'Same']\n",
            " ['Rainy' 'Cold' 'High' 'Strong' 'Warm' 'Change']\n",
            " ['Sunny' 'Warm' 'High' 'Strong' 'Cool' 'Change']]\n"
          ]
        }
      ]
    },
    {
      "cell_type": "code",
      "source": [
        "target = np.array(data)[:,-1]\n",
        "print(\"\\n The target is: \",target)"
      ],
      "metadata": {
        "colab": {
          "base_uri": "https://localhost:8080/"
        },
        "id": "T0ZkDMbMxjSI",
        "outputId": "c5a519ef-50b9-4f6c-cdbc-7ac3260ccf21"
      },
      "execution_count": 24,
      "outputs": [
        {
          "output_type": "stream",
          "name": "stdout",
          "text": [
            "\n",
            " The target is:  ['Yes' 'Yes' 'No' 'Yes']\n"
          ]
        }
      ]
    },
    {
      "cell_type": "code",
      "source": [
        "def train(c,t):\n",
        "  for i,val in enumerate(t):\n",
        "    if(val==\"Yes\"):\n",
        "      specific_hypothesis=c[i].copy()\n",
        "      break\n",
        "\n",
        "  for i,val in enumerate(c):\n",
        "    if t[i]==\"Yes\":\n",
        "      for x in range(len(specific_hypothesis)):\n",
        "        if val[x]!=specific_hypothesis[x]:\n",
        "          specific_hypothesis[x]='?'\n",
        "        else:\n",
        "          pass\n",
        "  return specific_hypothesis"
      ],
      "metadata": {
        "id": "HdoScwpEwYgp"
      },
      "execution_count": 19,
      "outputs": []
    },
    {
      "cell_type": "code",
      "source": [
        "print(\"\\n Final Hypothesis is : \\n\",train(d,target))"
      ],
      "metadata": {
        "colab": {
          "base_uri": "https://localhost:8080/"
        },
        "id": "r_w888qmwvvn",
        "outputId": "7019f22d-280c-4576-b415-19fc0310bd54"
      },
      "execution_count": 22,
      "outputs": [
        {
          "output_type": "stream",
          "name": "stdout",
          "text": [
            "\n",
            " Final Hypothesis is : \n",
            " ['Sunny' 'Warm' '?' 'Strong' '?' '?']\n"
          ]
        }
      ]
    }
  ]
}